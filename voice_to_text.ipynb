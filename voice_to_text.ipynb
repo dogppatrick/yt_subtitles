{
  "cells": [
    {
      "cell_type": "markdown",
      "metadata": {
        "id": "title"
      },
      "source": [
        "# 音訊轉文字工具 (上傳檔案版)\n",
        "\n",
        "這個 notebook 可以：\n",
        "- 上傳音訊/影片檔案\n",
        "- 使用 Whisper 模型將音訊轉換成中文文字\n",
        "- 支援多種檔案格式\n",
        "- 輸出包含時間戳記的文字檔\n",
        "\n",
        "## 修改使用 GPU 運算\n",
        "執行階段 -> 變更執行類型 -> 選T4 GPU\n",
        "\n",
        "## 使用方法\n",
        "1. 依序執行每個 cell\n",
        "2. 上傳你的音訊/影片檔案\n",
        "3. 等待處理完成後下載結果"
      ]
    },
    {
      "cell_type": "markdown",
      "metadata": {
        "id": "install_packages"
      },
      "source": [
        "## 1. 安裝必要套件"
      ]
    },
    {
      "cell_type": "code",
      "execution_count": null,
      "metadata": {
        "id": "install_cell",
        "collapsed": true
      },
      "outputs": [],
      "source": [
        "# 安裝所需套件\n",
        "!pip install openai-whisper\n",
        "!pip install torch torchvision torchaudio\n",
        "# 確保 FFmpeg 可用 (Colab 通常已經安裝)\n",
        "!apt update && apt install -y ffmpeg"
      ]
    },
    {
      "cell_type": "markdown",
      "metadata": {
        "id": "import_setup"
      },
      "source": [
        "## 2. 匯入套件和初始設定"
      ]
    },
    {
      "cell_type": "code",
      "execution_count": null,
      "metadata": {
        "id": "import_cell"
      },
      "outputs": [],
      "source": [
        "import whisper\n",
        "import glob\n",
        "import os\n",
        "from google.colab import files\n",
        "import shutil\n",
        "\n",
        "# 建立必要資料夾\n",
        "os.makedirs(\"./subtitles/\", exist_ok=True)\n",
        "os.makedirs(\"./uploads/\", exist_ok=True)\n",
        "\n",
        "print(\"資料夾建立完成！\")\n",
        "print(\"支援的檔案格式：\")\n",
        "print(\"音訊：mp3, wav, flac, m4a, ogg, wma, aac\")\n",
        "print(\"影片：mp4, avi, mov, mkv, wmv, flv, webm\")"
      ]
    },
    {
      "cell_type": "markdown",
      "metadata": {
        "id": "load_model"
      },
      "source": [
        "## 3. 載入 Whisper 模型"
      ]
    },
    {
      "cell_type": "code",
      "execution_count": null,
      "metadata": {
        "id": "model_cell"
      },
      "outputs": [],
      "source": [
        "# 載入 Whisper 模型 (第一次會需要下載模型檔案)\n",
        "print(\"正在載入 Whisper 模型...\")\n",
        "model = whisper.load_model(\"medium\")\n",
        "print(\"模型載入完成！\")\n",
        "\n",
        "# 設定路徑\n",
        "export_dir = \"./subtitles/\"\n",
        "upload_dir = \"./uploads/\""
      ]
    },
    {
      "cell_type": "markdown",
      "metadata": {
        "id": "define_functions"
      },
      "source": [
        "## 4. 定義核心函數"
      ]
    },
    {
      "cell_type": "code",
      "execution_count": null,
      "metadata": {
        "id": "functions_cell"
      },
      "outputs": [],
      "source": [
        "def create_txt(fn, verbose: bool = False):\n",
        "    \"\"\"將音訊檔案轉換成文字檔\"\"\"\n",
        "    print(f\"正在轉換: {os.path.basename(fn)}\")\n",
        "    \n",
        "    try:\n",
        "        result = model.transcribe(fn, language=\"zh\", verbose=verbose)\n",
        "        \n",
        "        # 修正路徑分隔符號問題 (適用於不同作業系統)\n",
        "        filename = os.path.basename(fn)\n",
        "        # 移除所有可能的副檔名\n",
        "        base_name = filename.split('.')[0]\n",
        "        export_fn = os.path.join(export_dir, base_name + '.txt')\n",
        "        \n",
        "        def format_timestamp(seconds):\n",
        "            seconds = int(seconds)\n",
        "            minutes, seconds = divmod(seconds, 60)\n",
        "            hours, minutes = divmod(minutes, 60)\n",
        "            return f\"{hours:02}:{minutes:02}:{seconds:02}\"\n",
        "        \n",
        "        with open(export_fn, \"w\", encoding=\"utf-8\") as file:\n",
        "            for segment in result[\"segments\"]:\n",
        "                start = format_timestamp(segment[\"start\"])\n",
        "                end = format_timestamp(segment[\"end\"])\n",
        "                text = segment[\"text\"]\n",
        "                file.write(f\"[{start} --> {end}] {text}\\n\")\n",
        "        \n",
        "        print(f\"✅ 轉換完成: {os.path.basename(export_fn)}\")\n",
        "        return export_fn\n",
        "        \n",
        "    except Exception as e:\n",
        "        print(f\"❌ 轉換失敗: {os.path.basename(fn)}, 錯誤: {e}\")\n",
        "        return None\n",
        "\n",
        "def get_supported_files(directory):\n",
        "    \"\"\"取得指定目錄中所有支援的音訊/影片檔案\"\"\"\n",
        "    supported_extensions = [\n",
        "        # 音訊格式\n",
        "        '*.mp3', '*.wav', '*.flac', '*.m4a', '*.ogg', '*.wma', '*.aac',\n",
        "        # 影片格式\n",
        "        '*.mp4', '*.avi', '*.mov', '*.mkv', '*.wmv', '*.flv', '*.webm'\n",
        "    ]\n",
        "    \n",
        "    files = []\n",
        "    for ext in supported_extensions:\n",
        "        files.extend(glob.glob(os.path.join(directory, ext)))\n",
        "        files.extend(glob.glob(os.path.join(directory, ext.upper())))\n",
        "    \n",
        "    return files\n",
        "\n",
        "print(\"函數定義完成！\")"
      ]
    },
    {
      "cell_type": "markdown",
      "metadata": {
        "id": "upload_files"
      },
      "source": [
        "## 5. 上傳檔案"
      ]
    },
    {
      "cell_type": "code",
      "execution_count": null,
      "metadata": {
        "id": "upload_cell"
      },
      "outputs": [],
      "source": [
        "# 清空上傳資料夾\n",
        "if os.path.exists(upload_dir):\n",
        "    shutil.rmtree(upload_dir)\n",
        "os.makedirs(upload_dir, exist_ok=True)\n",
        "\n",
        "print(\"請選擇要上傳的音訊/影片檔案：\")\n",
        "print(\"支援格式：mp3, wav, flac, m4a, ogg, wma, aac, mp4, avi, mov, mkv, wmv, flv, webm\")\n",
        "print(\"\\n⚠️  注意：可以一次選擇多個檔案\")\n",
        "\n",
        "uploaded = files.upload()\n",
        "\n",
        "# 將上傳的檔案移動到指定資料夾\n",
        "for filename in uploaded.keys():\n",
        "    src = filename\n",
        "    dst = os.path.join(upload_dir, filename)\n",
        "    shutil.move(src, dst)\n",
        "    print(f\"✅ 已上傳: {filename}\")\n",
        "\n",
        "print(f\"\\n📁 總共上傳了 {len(uploaded)} 個檔案\")"
      ]
    },
    {
      "cell_type": "markdown",
      "metadata": {
        "id": "process_files"
      },
      "source": [
        "## 6. 處理上傳的檔案"
      ]
    },
    {
      "cell_type": "code",
      "execution_count": null,
      "metadata": {
        "id": "process_cell"
      },
      "outputs": [],
      "source": [
        "# 取得所有支援的檔案\n",
        "uploaded_files = get_supported_files(upload_dir)\n",
        "\n",
        "if not uploaded_files:\n",
        "    print(\"❌ 沒有找到支援的檔案格式\")\n",
        "    print(\"請確認上傳的檔案是以下格式之一：\")\n",
        "    print(\"音訊：mp3, wav, flac, m4a, ogg, wma, aac\")\n",
        "    print(\"影片：mp4, avi, mov, mkv, wmv, flv, webm\")\n",
        "else:\n",
        "    print(f\"找到 {len(uploaded_files)} 個支援的檔案：\")\n",
        "    for file in uploaded_files:\n",
        "        print(f\"  - {os.path.basename(file)}\")\n",
        "    \n",
        "    # 開始轉換\n",
        "    print(\"\\n開始轉換音訊為文字...\")\n",
        "    successful_conversions = []\n",
        "    \n",
        "    for i, file_path in enumerate(uploaded_files, 1):\n",
        "        print(f\"\\n處理第 {i}/{len(uploaded_files)} 個檔案...\")\n",
        "        result = create_txt(file_path)\n",
        "        if result:\n",
        "            successful_conversions.append(result)\n",
        "    \n",
        "    print(f\"\\n🎉 處理完成！\")\n",
        "    print(f\"成功轉換 {len(successful_conversions)}/{len(uploaded_files)} 個檔案\")"
      ]
    },
    {
      "cell_type": "markdown",
      "metadata": {
        "id": "check_results"
      },
      "source": [
        "## 7. 查看結果"
      ]
    },
    {
      "cell_type": "code",
      "execution_count": null,
      "metadata": {
        "id": "results_cell"
      },
      "outputs": [],
      "source": [
        "# 查看上傳的檔案\n",
        "print(\"📁 上傳的檔案:\")\n",
        "uploaded_files = get_supported_files(upload_dir)\n",
        "if uploaded_files:\n",
        "    for file in uploaded_files:\n",
        "        file_size = os.path.getsize(file) / (1024 * 1024)  # MB\n",
        "        print(f\"  - {os.path.basename(file)} ({file_size:.2f} MB)\")\n",
        "else:\n",
        "    print(\"  (沒有檔案)\")\n",
        "\n",
        "print(\"\\n📄 生成的文字檔案:\")\n",
        "txt_files = glob.glob(\"./subtitles/*.txt\")\n",
        "if txt_files:\n",
        "    for file in txt_files:\n",
        "        print(f\"  - {os.path.basename(file)}\")\n",
        "else:\n",
        "    print(\"  (沒有檔案)\")\n",
        "\n",
        "print(f\"\\n📊 統計:\")\n",
        "print(f\"  - 上傳檔案: {len(uploaded_files)} 個\")\n",
        "print(f\"  - 文字檔案: {len(txt_files)} 個\")"
      ]
    },
    {
      "cell_type": "markdown",
      "metadata": {
        "id": "preview_text"
      },
      "source": [
        "## 8. 預覽文字內容"
      ]
    },
    {
      "cell_type": "code",
      "execution_count": null,
      "metadata": {
        "id": "preview_cell"
      },
      "outputs": [],
      "source": [
        "# 預覽生成的文字檔案內容\n",
        "txt_files = glob.glob(\"./subtitles/*.txt\")\n",
        "\n",
        "if txt_files:\n",
        "    for file in txt_files:\n",
        "        print(f\"\\n{'='*50}\")\n",
        "        print(f\"檔案: {os.path.basename(file)}\")\n",
        "        print(f\"{'='*50}\")\n",
        "        \n",
        "        with open(file, 'r', encoding='utf-8') as f:\n",
        "            content = f.read()\n",
        "            # 只顯示前 500 個字元\n",
        "            if len(content) > 500:\n",
        "                print(content[:500] + \"\\n\\n... (內容過長，僅顯示前 500 字元)\")\n",
        "            else:\n",
        "                print(content)\n",
        "else:\n",
        "    print(\"沒有找到文字檔案，請先執行步驟 5 和 6\")"
      ]
    },
    {
      "cell_type": "markdown",
      "metadata": {
        "id": "download_files"
      },
      "source": [
        "## 9. 下載結果檔案"
      ]
    },
    {
      "cell_type": "code",
      "execution_count": null,
      "metadata": {
        "id": "download_cell"
      },
      "outputs": [],
      "source": [
        "# 下載文字檔案到本地\n",
        "import zipfile\n",
        "\n",
        "txt_files = glob.glob(\"./subtitles/*.txt\")\n",
        "\n",
        "if txt_files:\n",
        "    if len(txt_files) == 1:\n",
        "        # 如果只有一個檔案，直接下載\n",
        "        print(f\"下載檔案: {os.path.basename(txt_files[0])}\")\n",
        "        files.download(txt_files[0])\n",
        "    else:\n",
        "        # 如果有多個檔案，打包成 zip 檔案\n",
        "        zip_filename = \"transcriptions.zip\"\n",
        "        with zipfile.ZipFile(zip_filename, 'w') as zipf:\n",
        "            for file in txt_files:\n",
        "                zipf.write(file, os.path.basename(file))\n",
        "        \n",
        "        print(f\"已打包 {len(txt_files)} 個檔案到 {zip_filename}\")\n",
        "        files.download(zip_filename)\n",
        "else:\n",
        "    print(\"沒有找到文字檔案可供下載\")"
      ]
    },
    {
      "cell_type": "markdown",
      "metadata": {
        "id": "batch_upload"
      },
      "source": [
        "## 10. 批次上傳 (選用功能)"
      ]
    },
    {
      "cell_type": "code",
      "execution_count": null,
      "metadata": {
        "id": "batch_cell"
      },
      "outputs": [],
      "source": [
        "# 如果你有很多檔案需要處理，可以先打包成 zip 檔上傳\n",
        "# 然後使用這個 cell 來解壓縮\n",
        "\n",
        "print(\"上傳 zip 檔案 (包含多個音訊/影片檔案):\")\n",
        "uploaded_zip = files.upload()\n",
        "\n",
        "# 解壓縮\n",
        "for zip_filename in uploaded_zip.keys():\n",
        "    if zip_filename.endswith('.zip'):\n",
        "        print(f\"正在解壓縮: {zip_filename}\")\n",
        "        with zipfile.ZipFile(zip_filename, 'r') as zip_ref:\n",
        "            zip_ref.extractall(upload_dir)\n",
        "        print(f\"解壓縮完成！\")\n",
        "        \n",
        "        # 顯示解壓縮的檔案\n",
        "        extracted_files = get_supported_files(upload_dir)\n",
        "        print(f\"找到 {len(extracted_files)} 個支援的檔案：\")\n",
        "        for file in extracted_files:\n",
        "            print(f\"  - {os.path.basename(file)}\")\n",
        "    else:\n",
        "        print(f\"⚠️  {zip_filename} 不是 zip 檔案，跳過\")"
      ]
    },
    {
      "cell_type": "markdown",
      "metadata": {
        "id": "usage_notes"
      },
      "source": [
        "## 📝 使用說明\n",
        "\n",
        "### 支援的檔案格式\n",
        "- **音訊格式**: MP3, WAV, FLAC, M4A, OGG, WMA, AAC\n",
        "- **影片格式**: MP4, AVI, MOV, MKV, WMV, FLV, WebM\n",
        "\n",
        "### 使用流程\n",
        "1. 執行步驟 1-4 進行初始化\n",
        "2. 執行步驟 5 上傳檔案\n",
        "3. 執行步驟 6 處理檔案\n",
        "4. 執行步驟 7-9 查看和下載結果\n",
        "\n",
        "### 進階功能\n",
        "- **批次處理**: 可以一次上傳多個檔案\n",
        "- **ZIP 上傳**: 如果檔案很多，可以打包成 zip 檔上傳 (步驟 10)\n",
        "- **模型選擇**: 可以在步驟 3 中修改模型大小\n",
        "\n",
        "### 模型選擇建議\n",
        "- `\"tiny\"`: 最快速，但準確度最低\n",
        "- `\"base\"`: 速度快，準確度一般\n",
        "- `\"small\"`: 平衡速度和準確度\n",
        "- `\"medium\"`: 推薦選擇，準確度較高\n",
        "- `\"large\"`: 最高準確度，但速度最慢\n",
        "\n",
        "### 注意事項\n",
        "- 檔案大小限制：Google Colab 有上傳大小限制\n",
        "- 處理時間：取決於檔案長度和模型大小\n",
        "- 語言設定：目前設定為中文，可以修改或移除讓模型自動偵測\n",
        "- GPU 加速：建議使用 GPU 運算環境提升速度\n",
        "\n",
        "### 常見問題\n",
        "- **檔案格式不支援**: 確認檔案副檔名是否正確\n",
        "- **轉換失敗**: 可能是檔案損壞或格式特殊，嘗試用其他軟體轉換格式\n",
        "- **記憶體不足**: 嘗試使用較小的模型或分批處理"
      ]
    }
  ],
  "metadata": {
    "colab": {
      "provenance": [],
      "collapsed_sections": [
        "batch_upload"
      ],
      "gpuType": "T4"
    },
    "kernelspec": {
      "display_name": "Python 3",
      "name": "python3"
    },
    "language_info": {
      "name": "python"
    },
    "accelerator": "GPU"
  },
  "nbformat": 4,
  "nbformat_minor": 0
}