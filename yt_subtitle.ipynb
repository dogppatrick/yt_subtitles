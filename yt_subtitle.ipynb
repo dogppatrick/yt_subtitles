{
  "cells": [
    {
      "cell_type": "markdown",
      "metadata": {
        "id": "title"
      },
      "source": [
        "# YouTube 音訊轉文字工具\n",
        "\n",
        "這個 notebook 可以：\n",
        "- 下載 YouTube 影片的音訊\n",
        "- 使用 Whisper 模型將音訊轉換成中文文字\n",
        "- 支援單一影片或整個播放清單\n",
        "- 輸出包含時間戳記的文字檔\n",
        "\n",
        "## 修改使用 GPU 運算\n",
        "執行階段 -> 變更執行類型 -> 選T4 TPU\n",
        "\n",
        "\n",
        "## 使用方法\n",
        "1. 依序執行每個 cell\n",
        "2. 在指定的 cell 中修改 YouTube URL\n",
        "3. 等待處理完成後下載結果"
      ]
    },
    {
      "cell_type": "markdown",
      "metadata": {
        "id": "install_packages"
      },
      "source": [
        "## 1. 安裝必要套件"
      ]
    },
    {
      "cell_type": "code",
      "execution_count": null,
      "metadata": {
        "id": "install_cell",
        "collapsed": true
      },
      "outputs": [],
      "source": [
        "# 安裝所需套件\n",
        "!pip install yt-dlp\n",
        "!pip install openai-whisper\n",
        "!pip install torch torchvision torchaudio\n",
        "!pip install keyring browser-cookie3\n"
      ]
    },
    {
      "cell_type": "markdown",
      "metadata": {
        "id": "import_setup"
      },
      "source": [
        "## 2. 匯入套件和初始設定"
      ]
    },
    {
      "cell_type": "code",
      "execution_count": null,
      "metadata": {
        "id": "import_cell"
      },
      "outputs": [],
      "source": [
        "import yt_dlp\n",
        "import whisper\n",
        "import glob\n",
        "import os\n",
        "from urllib.parse import urlparse, parse_qs\n",
        "\n",
        "# 建立必要資料夾\n",
        "os.makedirs(\"./subtitles/\", exist_ok=True)\n",
        "os.makedirs(\"./download_yt/\", exist_ok=True)\n",
        "\n",
        "print(\"資料夾建立完成！\")"
      ]
    },
    {
      "cell_type": "markdown",
      "metadata": {
        "id": "load_model"
      },
      "source": [
        "## 3. 載入 Whisper 模型"
      ]
    },
    {
      "cell_type": "code",
      "execution_count": null,
      "metadata": {
        "id": "model_cell"
      },
      "outputs": [],
      "source": [
        "# 載入 Whisper 模型 (第一次會需要下載模型檔案)\n",
        "print(\"正在載入 Whisper 模型...\")\n",
        "model = whisper.load_model(\"medium\")\n",
        "print(\"模型載入完成！\")\n",
        "\n",
        "# 設定路徑\n",
        "export_dir = \"./subtitles/\"\n",
        "download_dir = \"./download_yt/\""
      ]
    },
    {
      "cell_type": "markdown",
      "metadata": {
        "id": "define_functions"
      },
      "source": [
        "## 4. 定義核心函數"
      ]
    },
    {
      "cell_type": "code",
      "source": [
        "# 使用這個插件下載 cookies.txt 並且使用 左邊上傳圖示上傳到這個目錄下\n",
        "# https://chromewebstore.google.com/detail/get-cookiestxt-locally/cclelndahbckbenkjhflpdbgdldlbecc"
      ],
      "metadata": {
        "id": "EbKXwNf23G9P"
      },
      "execution_count": null,
      "outputs": []
    },
    {
      "cell_type": "code",
      "execution_count": null,
      "metadata": {
        "id": "functions_cell"
      },
      "outputs": [],
      "source": [
        "def download_audio_clip(url, output_dir=\"./download_yt/\"):\n",
        "    ydl_opts = {\n",
        "        \"format\": \"bestaudio\",\n",
        "        \"outtmpl\": output_dir + \"%(title)s.%(ext)s\",\n",
        "        \"noplaylist\": True,\n",
        "        \"cookiefile\": \"cookies.txt\",\n",
        "    }\n",
        "    with yt_dlp.YoutubeDL(ydl_opts) as ydl:\n",
        "        info = ydl.extract_info(url, download=True)\n",
        "    return info\n",
        "def get_playlist_urls(playlist_url):\n",
        "    \"\"\"取得播放清單中所有影片的 URL\"\"\"\n",
        "    def extract_list_id(url: str) -> str | None:\n",
        "        parsed = urlparse(url)\n",
        "        qs = parse_qs(parsed.query)\n",
        "        return qs.get(\"list\", [None])[0]\n",
        "\n",
        "    play_list_id = extract_list_id(playlist_url)\n",
        "    if not play_list_id:\n",
        "        print(\"錯誤：無效的播放清單 URL\")\n",
        "        return []\n",
        "    else:\n",
        "        playlist_url = f\"https://www.youtube.com/playlist?list={play_list_id}\"\n",
        "\n",
        "    ydl_opts = {\n",
        "        \"quiet\": True,\n",
        "        \"extract_flat\": True,\n",
        "        \"skip_download\": True,\n",
        "    }\n",
        "\n",
        "    with yt_dlp.YoutubeDL(ydl_opts) as ydl:\n",
        "        info = ydl.extract_info(playlist_url, download=False)\n",
        "        return [entry[\"url\"] for entry in info.get(\"entries\", []) if \"url\" in entry]\n",
        "\n",
        "def create_txt(fn, verbose: bool = False):\n",
        "    \"\"\"將音訊檔案轉換成文字檔\"\"\"\n",
        "    print(f\"正在轉換: {fn}\")\n",
        "    result = model.transcribe(fn, language=\"zh\", verbose=verbose)\n",
        "\n",
        "    # 修正路徑分隔符號問題 (適用於不同作業系統)\n",
        "    filename = os.path.basename(fn)\n",
        "    export_fn = os.path.join(export_dir, filename.rsplit('.', 1)[0] + '.txt')\n",
        "\n",
        "    def format_timestamp(seconds):\n",
        "        seconds = int(seconds)\n",
        "        minutes, seconds = divmod(seconds, 60)\n",
        "        hours, minutes = divmod(minutes, 60)\n",
        "        return f\"{hours:02}:{minutes:02}:{seconds:02}\"\n",
        "\n",
        "    with open(export_fn, \"w\", encoding=\"utf-8\") as file:\n",
        "        for segment in result[\"segments\"]:\n",
        "            start = format_timestamp(segment[\"start\"])\n",
        "            end = format_timestamp(segment[\"end\"])\n",
        "            text = segment[\"text\"]\n",
        "            file.write(f\"[{start} --> {end}] {text}\\n\")\n",
        "\n",
        "    print(f\"轉換完成: {export_fn}\")\n",
        "\n",
        "print(\"函數定義完成！\")"
      ]
    },
    {
      "cell_type": "markdown",
      "metadata": {
        "id": "method_single"
      },
      "source": [
        "## 5. 方法一：下載指定影片\n",
        "\n",
        "在下面的 cell 中修改 `url_list` 來指定要下載的影片"
      ]
    },
    {
      "cell_type": "code",
      "execution_count": null,
      "metadata": {
        "id": "single_videos_cell"
      },
      "outputs": [],
      "source": [
        "# 🔽 在這裡修改你要下載的影片 URL\n",
        "url_list = [\n",
        "    \"https://www.youtube.com/watch?v=h5d9rsBkd4Y&list=PLlk-i0VfFy44iTM8hWIUJ0ZLXh0fAFYeK&index=2\",\n",
        "    \"https://www.youtube.com/watch?v=ReAe7QMzj8A&list=PLlk-i0VfFy44iTM8hWIUJ0ZLXh0fAFYeK&index=3\",\n",
        "]\n",
        "\n",
        "# 下載音訊\n",
        "print(\"開始下載音訊...\")\n",
        "for i, url in enumerate(url_list, 1):\n",
        "    try:\n",
        "        print(f\"下載第 {i}/{len(url_list)} 個影片...\")\n",
        "        download_audio_clip(url)\n",
        "        print(f\"✅ 下載完成: {url}\")\n",
        "    except Exception as e:\n",
        "        print(f\"❌ 下載失敗: {url}, 錯誤: {e}\")\n",
        "\n",
        "# 轉換成文字\n",
        "print(\"\\n開始轉換音訊為文字...\")\n",
        "video_list = glob.glob(\"./download_yt/*.mp4\") + glob.glob(\"./download_yt/*.webm\")\n",
        "for i, fn in enumerate(video_list, 1):\n",
        "    print(f\"轉換第 {i}/{len(video_list)} 個檔案...\")\n",
        "    create_txt(fn)\n",
        "\n",
        "print(\"\\n🎉 所有處理完成！\")"
      ]
    },
    {
      "cell_type": "markdown",
      "metadata": {
        "id": "method_playlist"
      },
      "source": [
        "## 6. 方法二：下載整個播放清單\n",
        "\n",
        "如果要下載整個播放清單，請執行下面的 cell"
      ]
    },
    {
      "cell_type": "code",
      "execution_count": null,
      "metadata": {
        "id": "playlist_cell"
      },
      "outputs": [],
      "source": [
        "# 🔽 在這裡修改播放清單 URL\n",
        "playlist_url = \"https://www.youtube.com/playlist?list=PLlk-i0VfFy44iTM8hWIUJ0ZLXh0fAFYeK\"\n",
        "\n",
        "# 取得播放清單中的所有影片 URL\n",
        "print(\"正在取得播放清單...\")\n",
        "url_list = get_playlist_urls(playlist_url)\n",
        "print(f\"找到 {len(url_list)} 個影片\")\n",
        "\n",
        "if url_list:\n",
        "    # 下載所有影片的音訊\n",
        "    print(\"\\n開始下載音訊...\")\n",
        "    for i, url in enumerate(url_list, 1):\n",
        "        try:\n",
        "            print(f\"下載第 {i}/{len(url_list)} 個影片...\")\n",
        "            download_audio_clip(url)\n",
        "            print(f\"✅ 下載完成\")\n",
        "        except Exception as e:\n",
        "            print(f\"❌ 下載第 {i} 個影片失敗: {e}\")\n",
        "\n",
        "    # 轉換所有音訊為文字\n",
        "    print(\"\\n開始轉換音訊為文字...\")\n",
        "    video_list = glob.glob(\"./download_yt/*.mp4\") + glob.glob(\"./download_yt/*.webm\")\n",
        "    for i, fn in enumerate(video_list, 1):\n",
        "        print(f\"轉換第 {i}/{len(video_list)} 個檔案...\")\n",
        "        create_txt(fn)\n",
        "\n",
        "    print(\"\\n🎉 所有處理完成！\")\n",
        "else:\n",
        "    print(\"❌ 無法取得播放清單，請檢查 URL 是否正確\")"
      ]
    },
    {
      "cell_type": "markdown",
      "metadata": {
        "id": "check_results"
      },
      "source": [
        "## 7. 查看結果"
      ]
    },
    {
      "cell_type": "code",
      "execution_count": null,
      "metadata": {
        "id": "results_cell"
      },
      "outputs": [],
      "source": [
        "# 查看下載的檔案\n",
        "print(\"📁 下載的音訊檔案:\")\n",
        "audio_files = glob.glob(\"./download_yt/*\")\n",
        "if audio_files:\n",
        "    for file in audio_files:\n",
        "        print(f\"  - {os.path.basename(file)}\")\n",
        "else:\n",
        "    print(\"  (沒有檔案)\")\n",
        "\n",
        "print(\"\\n📄 生成的文字檔案:\")\n",
        "txt_files = glob.glob(\"./subtitles/*.txt\")\n",
        "if txt_files:\n",
        "    for file in txt_files:\n",
        "        print(f\"  - {os.path.basename(file)}\")\n",
        "else:\n",
        "    print(\"  (沒有檔案)\")\n",
        "\n",
        "print(f\"\\n📊 統計:\")\n",
        "print(f\"  - 音訊檔案: {len(audio_files)} 個\")\n",
        "print(f\"  - 文字檔案: {len(txt_files)} 個\")"
      ]
    },
    {
      "cell_type": "markdown",
      "metadata": {
        "id": "preview_text"
      },
      "source": [
        "## 8. 預覽文字內容"
      ]
    },
    {
      "cell_type": "code",
      "execution_count": null,
      "metadata": {
        "id": "preview_cell"
      },
      "outputs": [],
      "source": [
        "# 預覽生成的文字檔案內容\n",
        "txt_files = glob.glob(\"./subtitles/*.txt\")\n",
        "\n",
        "if txt_files:\n",
        "    for file in txt_files:\n",
        "        print(f\"\\n{'='*50}\")\n",
        "        print(f\"檔案: {os.path.basename(file)}\")\n",
        "        print(f\"{'='*50}\")\n",
        "\n",
        "        with open(file, 'r', encoding='utf-8') as f:\n",
        "            content = f.read()\n",
        "            # 只顯示前 500 個字元\n",
        "            if len(content) > 500:\n",
        "                print(content[:500] + \"\\n\\n... (內容過長，僅顯示前 500 字元)\")\n",
        "            else:\n",
        "                print(content)\n",
        "else:\n",
        "    print(\"沒有找到文字檔案，請先執行步驟 5 或 6\")"
      ]
    },
    {
      "cell_type": "markdown",
      "metadata": {
        "id": "download_files"
      },
      "source": [
        "## 9. 下載結果檔案"
      ]
    },
    {
      "cell_type": "code",
      "execution_count": null,
      "metadata": {
        "id": "download_cell"
      },
      "outputs": [],
      "source": [
        "# 下載文字檔案到本地\n",
        "from google.colab import files\n",
        "import zipfile\n",
        "\n",
        "txt_files = glob.glob(\"./subtitles/*.txt\")\n",
        "\n",
        "if txt_files:\n",
        "    if len(txt_files) == 1:\n",
        "        # 如果只有一個檔案，直接下載\n",
        "        print(f\"下載檔案: {txt_files[0]}\")\n",
        "        files.download(txt_files[0])\n",
        "    else:\n",
        "        # 如果有多個檔案，打包成 zip 檔案\n",
        "        zip_filename = \"subtitles.zip\"\n",
        "        with zipfile.ZipFile(zip_filename, 'w') as zipf:\n",
        "            for file in txt_files:\n",
        "                zipf.write(file, os.path.basename(file))\n",
        "\n",
        "        print(f\"已打包 {len(txt_files)} 個檔案到 {zip_filename}\")\n",
        "        files.download(zip_filename)\n",
        "else:\n",
        "    print(\"沒有找到文字檔案可供下載\")"
      ]
    },
    {
      "cell_type": "markdown",
      "metadata": {
        "id": "usage_notes"
      },
      "source": [
        "## 📝 使用說明\n",
        "\n",
        "### 修改設定\n",
        "- **URL 修改**: 在步驟 5 中修改 `url_list` 或在步驟 6 中修改 `playlist_url`\n",
        "- **模型選擇**: 在步驟 3 中可以將 `\"medium\"` 改為：\n",
        "  - `\"small\"` (速度較快，準確度較低)\n",
        "  - `\"large\"` (速度較慢，準確度較高)\n",
        "- **語言設定**: 在 `create_txt` 函數中可以修改 `language=\"zh\"` 或移除讓模型自動偵測\n",
        "\n",
        "### 注意事項\n",
        "- 第一次執行會需要下載 Whisper 模型檔案\n",
        "- 處理時間取決於影片長度和選擇的模型大小\n",
        "- 建議先用短影片測試\n",
        "- 如果遇到下載失敗，可能是影片受到地區限制或已被刪除\n",
        "\n",
        "### 輸出格式\n",
        "生成的文字檔案包含：\n",
        "- 時間戳記格式：`[HH:MM:SS --> HH:MM:SS] 文字內容`\n",
        "\n",
        "### 支援的影片格式\n",
        "- YouTube 單一影片\n",
        "- YouTube 播放清單\n",
        "- 大部分 yt-dlp 支援的網站"
      ]
    }
  ],
  "metadata": {
    "colab": {
      "provenance": [],
      "collapsed_sections": [
        "method_playlist"
      ],
      "gpuType": "T4"
    },
    "kernelspec": {
      "display_name": "Python 3",
      "name": "python3"
    },
    "language_info": {
      "name": "python"
    },
    "accelerator": "GPU"
  },
  "nbformat": 4,
  "nbformat_minor": 0
}